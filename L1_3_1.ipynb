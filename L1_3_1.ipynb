{
  "nbformat": 4,
  "nbformat_minor": 0,
  "metadata": {
    "colab": {
      "provenance": []
    },
    "kernelspec": {
      "name": "python3",
      "display_name": "Python 3"
    },
    "language_info": {
      "name": "python"
    }
  },
  "cells": [
    {
      "cell_type": "code",
      "execution_count": null,
      "metadata": {
        "id": "yiccBNocN7HW"
      },
      "outputs": [],
      "source": [
        "#Regression DNN\n",
        "import numpy as np\n",
        "import pandas as pd\n",
        "import matplotlib.pyplot as plt"
      ]
    },
    {
      "cell_type": "code",
      "source": [
        "#DATA\n",
        "from tensorflow.keras.datasets import boston_housing\n",
        "(x_train_set,y_train_set),(x_test,y_test)=boston_housing.load_data()  #讀取資料分為training跟test的資料"
      ],
      "metadata": {
        "colab": {
          "base_uri": "https://localhost:8080/"
        },
        "id": "GM6gBP4-Obqz",
        "outputId": "bb2457ad-f4df-46a2-f1fb-4ef1f1f3d001"
      },
      "execution_count": null,
      "outputs": [
        {
          "output_type": "stream",
          "name": "stdout",
          "text": [
            "Downloading data from https://storage.googleapis.com/tensorflow/tf-keras-datasets/boston_housing.npz\n",
            "57026/57026 [==============================] - 0s 0us/step\n"
          ]
        }
      ]
    },
    {
      "cell_type": "code",
      "source": [
        "#(check data)\n",
        "x_train_set.shape,y_train_set.shape,x_test.shape,y_test.shape  #每個樣本有13個Features"
      ],
      "metadata": {
        "colab": {
          "base_uri": "https://localhost:8080/"
        },
        "id": "cyit-LScO107",
        "outputId": "16aeea2f-2b0e-4f35-d682-b081c92abd7c"
      },
      "execution_count": null,
      "outputs": [
        {
          "output_type": "execute_result",
          "data": {
            "text/plain": [
              "((404, 13), (404,), (102, 13), (102,))"
            ]
          },
          "metadata": {},
          "execution_count": 5
        }
      ]
    },
    {
      "cell_type": "code",
      "source": [
        "#split data\n",
        "from sklearn.model_selection import train_test_split\n",
        "x_train,x_valid,y_train,y_valid = train_test_split(x_train_set,y_train_set,random_state=1)  #test_size=0.25  x_train (303,13) x_valid (101,13)"
      ],
      "metadata": {
        "id": "tfcCPUeFPTa_"
      },
      "execution_count": null,
      "outputs": []
    },
    {
      "cell_type": "code",
      "source": [
        "#preprocessing\n",
        "from sklearn.preprocessing import StandardScaler\n",
        "scal = StandardScaler()  #先將資料標準化\n",
        "x_train = scal.fit_transform(x_train)\n",
        "x_valid = scal.transform(x_valid)\n",
        "x_test = scal.transform(x_test)"
      ],
      "metadata": {
        "id": "XEXhfrPPP57Y"
      },
      "execution_count": null,
      "outputs": []
    },
    {
      "cell_type": "code",
      "source": [
        "#1.Build model\n",
        "import tensorflow as tf\n",
        "from tensorflow import keras\n",
        "from tensorflow.keras.models import Sequential #建構模型\n",
        "from tensorflow.keras.layers import Dense #隱藏層\n",
        "from tensorflow.keras.optimizers import SGD\n",
        "\n",
        "keras.backend.clear_session()  #將先前的設定reset\n",
        "np.random.seed(1)     #隨機變數\n",
        "tf.random.set_seed(1)"
      ],
      "metadata": {
        "id": "u_WuIBfIQ59T"
      },
      "execution_count": null,
      "outputs": []
    },
    {
      "cell_type": "code",
      "source": [
        "model =Sequential() #建構模型，可以逐一加入層\n",
        "model.add(Dense(units=100,activation='relu',input_shape=x_train.shape[1:])) #第一個隱藏層 100個神經元 觸發函數使用relu\n",
        "model.add(Dense(units=50,activation='relu'))#第二個隱藏層50個神經元\n",
        "model.add(Dense(units=1)) #output layer"
      ],
      "metadata": {
        "id": "6H8Gg_prTdWp"
      },
      "execution_count": null,
      "outputs": []
    },
    {
      "cell_type": "code",
      "source": [
        "#(check model)\n",
        "model.summary() #layer0:1400=(13+1)*100 layer1:5050=(1+100)*50  layer2:51=(1+50)*1 6501=1400+5050+51"
      ],
      "metadata": {
        "colab": {
          "base_uri": "https://localhost:8080/"
        },
        "id": "xhqNC6m_XgYA",
        "outputId": "6ef41d24-12fe-458e-f296-cc22689073dd"
      },
      "execution_count": null,
      "outputs": [
        {
          "output_type": "stream",
          "name": "stdout",
          "text": [
            "Model: \"sequential_1\"\n",
            "_________________________________________________________________\n",
            " Layer (type)                Output Shape              Param #   \n",
            "=================================================================\n",
            " dense_3 (Dense)             (None, 100)               1400      \n",
            "                                                                 \n",
            " dense_4 (Dense)             (None, 50)                5050      \n",
            "                                                                 \n",
            " dense_5 (Dense)             (None, 1)                 51        \n",
            "                                                                 \n",
            "=================================================================\n",
            "Total params: 6,501\n",
            "Trainable params: 6,501\n",
            "Non-trainable params: 0\n",
            "_________________________________________________________________\n"
          ]
        }
      ]
    },
    {
      "cell_type": "code",
      "source": [
        "#(get weights & bias)\n",
        "weights,biases=model.layers[1].get_weights()  #layer1 param有5050的那層"
      ],
      "metadata": {
        "id": "HDmicyjTYmqo"
      },
      "execution_count": null,
      "outputs": []
    },
    {
      "cell_type": "code",
      "source": [
        "biases.shape,biases"
      ],
      "metadata": {
        "colab": {
          "base_uri": "https://localhost:8080/"
        },
        "id": "kSKYCQEtbqyi",
        "outputId": "c8597e96-2482-495a-881f-a28c1013c374"
      },
      "execution_count": null,
      "outputs": [
        {
          "output_type": "execute_result",
          "data": {
            "text/plain": [
              "((50,),\n",
              " array([0., 0., 0., 0., 0., 0., 0., 0., 0., 0., 0., 0., 0., 0., 0., 0., 0.,\n",
              "        0., 0., 0., 0., 0., 0., 0., 0., 0., 0., 0., 0., 0., 0., 0., 0., 0.,\n",
              "        0., 0., 0., 0., 0., 0., 0., 0., 0., 0., 0., 0., 0., 0., 0., 0.],\n",
              "       dtype=float32))"
            ]
          },
          "metadata": {},
          "execution_count": 23
        }
      ]
    },
    {
      "cell_type": "code",
      "source": [
        "weights.shape,weights"
      ],
      "metadata": {
        "colab": {
          "base_uri": "https://localhost:8080/"
        },
        "id": "dwtP648Vbtrj",
        "outputId": "2e5724da-0cf2-44c1-ef8a-4e7f850d65f0"
      },
      "execution_count": null,
      "outputs": [
        {
          "output_type": "execute_result",
          "data": {
            "text/plain": [
              "((100, 50),\n",
              " array([[ 0.08174773, -0.0504653 , -0.05657049, ...,  0.14059396,\n",
              "          0.04712538, -0.18879485],\n",
              "        [ 0.19949092, -0.09690309,  0.19691129, ...,  0.11547519,\n",
              "          0.08921327, -0.0523179 ],\n",
              "        [-0.1858223 , -0.04120207,  0.03895321, ..., -0.1797773 ,\n",
              "         -0.06433463, -0.09015675],\n",
              "        ...,\n",
              "        [ 0.09542216, -0.09838825,  0.13762487, ..., -0.14657979,\n",
              "          0.14233972,  0.01201487],\n",
              "        [ 0.1564611 , -0.16161819, -0.07109495, ..., -0.0134068 ,\n",
              "         -0.16447315,  0.19281186],\n",
              "        [ 0.01509762,  0.14339481,  0.05896507, ..., -0.13664766,\n",
              "          0.13704138, -0.07960396]], dtype=float32))"
            ]
          },
          "metadata": {},
          "execution_count": 24
        }
      ]
    },
    {
      "cell_type": "code",
      "source": [
        "#2.compile\n",
        "model.compile(loss='mse',optimizer=SGD(learning_rate=1e-3)) #loss function使用MSE"
      ],
      "metadata": {
        "id": "7foErsP9b3GJ"
      },
      "execution_count": null,
      "outputs": []
    },
    {
      "cell_type": "code",
      "source": [
        "#3.Train\n",
        "train=model.fit(x_train,y_train,epochs=20,validation_data=(x_valid,y_valid)) #batch_size=32(預設) epochs:進行20回合"
      ],
      "metadata": {
        "colab": {
          "base_uri": "https://localhost:8080/"
        },
        "id": "z686ELYvcUTU",
        "outputId": "50bb4785-1d92-4f0a-8b30-fbcaebcc3f14"
      },
      "execution_count": null,
      "outputs": [
        {
          "output_type": "stream",
          "name": "stdout",
          "text": [
            "Epoch 1/20\n",
            "10/10 [==============================] - 1s 22ms/step - loss: 529.0248 - val_loss: 399.7310\n",
            "Epoch 2/20\n",
            "10/10 [==============================] - 0s 8ms/step - loss: 222.7666 - val_loss: 74.3085\n",
            "Epoch 3/20\n",
            "10/10 [==============================] - 0s 5ms/step - loss: 44.6279 - val_loss: 36.4009\n",
            "Epoch 4/20\n",
            "10/10 [==============================] - 0s 7ms/step - loss: 27.6710 - val_loss: 27.0417\n",
            "Epoch 5/20\n",
            "10/10 [==============================] - 0s 5ms/step - loss: 22.4553 - val_loss: 23.1256\n",
            "Epoch 6/20\n",
            "10/10 [==============================] - 0s 6ms/step - loss: 20.1337 - val_loss: 21.0934\n",
            "Epoch 7/20\n",
            "10/10 [==============================] - 0s 5ms/step - loss: 18.4593 - val_loss: 19.2199\n",
            "Epoch 8/20\n",
            "10/10 [==============================] - 0s 8ms/step - loss: 17.2442 - val_loss: 18.1931\n",
            "Epoch 9/20\n",
            "10/10 [==============================] - 0s 7ms/step - loss: 16.2493 - val_loss: 17.2512\n",
            "Epoch 10/20\n",
            "10/10 [==============================] - 0s 9ms/step - loss: 15.0305 - val_loss: 15.6817\n",
            "Epoch 11/20\n",
            "10/10 [==============================] - 0s 7ms/step - loss: 14.6037 - val_loss: 15.6265\n",
            "Epoch 12/20\n",
            "10/10 [==============================] - 0s 5ms/step - loss: 13.7618 - val_loss: 15.5193\n",
            "Epoch 13/20\n",
            "10/10 [==============================] - 0s 7ms/step - loss: 13.1994 - val_loss: 14.4945\n",
            "Epoch 14/20\n",
            "10/10 [==============================] - 0s 5ms/step - loss: 12.5425 - val_loss: 14.2651\n",
            "Epoch 15/20\n",
            "10/10 [==============================] - 0s 7ms/step - loss: 12.0012 - val_loss: 14.0938\n",
            "Epoch 16/20\n",
            "10/10 [==============================] - 0s 5ms/step - loss: 12.1741 - val_loss: 13.4434\n",
            "Epoch 17/20\n",
            "10/10 [==============================] - 0s 7ms/step - loss: 11.4256 - val_loss: 13.1937\n",
            "Epoch 18/20\n",
            "10/10 [==============================] - 0s 6ms/step - loss: 11.0086 - val_loss: 13.1800\n",
            "Epoch 19/20\n",
            "10/10 [==============================] - 0s 5ms/step - loss: 10.8748 - val_loss: 13.2299\n",
            "Epoch 20/20\n",
            "10/10 [==============================] - 0s 7ms/step - loss: 10.4859 - val_loss: 12.5763\n"
          ]
        }
      ]
    },
    {
      "cell_type": "code",
      "source": [
        "pd.DataFrame(train.history).plot()\n",
        "plt.grid(True)\n",
        "plt.show()  #藍色為train loss 橘色為val_loss 每進下一回合都會下降"
      ],
      "metadata": {
        "colab": {
          "base_uri": "https://localhost:8080/",
          "height": 430
        },
        "id": "NlXcZkwUcnVt",
        "outputId": "04a313da-f661-486b-ed34-1ae977b1fb9e"
      },
      "execution_count": null,
      "outputs": [
        {
          "output_type": "display_data",
          "data": {
            "text/plain": [
              "<Figure size 640x480 with 1 Axes>"
            ],
            "image/png": "[encoded data removed]"
          },
          "metadata": {}
        }
      ]
    },
    {
      "cell_type": "code",
      "source": [
        "#4.Evaluate\n",
        "model.evaluate(x_test,y_test)"
      ],
      "metadata": {
        "colab": {
          "base_uri": "https://localhost:8080/"
        },
        "id": "g3iGQZF2d66i",
        "outputId": "dc5eda14-2494-4de7-a0c8-f86cc2fbe5de"
      },
      "execution_count": null,
      "outputs": [
        {
          "output_type": "stream",
          "name": "stdout",
          "text": [
            "4/4 [==============================] - 0s 6ms/step - loss: 22.4225\n"
          ]
        },
        {
          "output_type": "execute_result",
          "data": {
            "text/plain": [
              "22.42247772216797"
            ]
          },
          "metadata": {},
          "execution_count": 30
        }
      ]
    },
    {
      "cell_type": "code",
      "source": [
        "#5.Predict\n",
        "model.predict(x_test[:3])"
      ],
      "metadata": {
        "colab": {
          "base_uri": "https://localhost:8080/"
        },
        "id": "LG7j9ReMesoc",
        "outputId": "a2817fb4-9ea2-40fc-a30a-7f28d61c5de1"
      },
      "execution_count": null,
      "outputs": [
        {
          "output_type": "stream",
          "name": "stdout",
          "text": [
            "1/1 [==============================] - 0s 115ms/step\n"
          ]
        },
        {
          "output_type": "execute_result",
          "data": {
            "text/plain": [
              "array([[ 8.930979],\n",
              "       [16.611923],\n",
              "       [21.539871]], dtype=float32)"
            ]
          },
          "metadata": {},
          "execution_count": 31
        }
      ]
    },
    {
      "cell_type": "code",
      "source": [
        "y_test[:3]"
      ],
      "metadata": {
        "colab": {
          "base_uri": "https://localhost:8080/"
        },
        "id": "jsSlyq3Ne3fy",
        "outputId": "a1811f99-7f8f-4adc-c522-2825b142dcdf"
      },
      "execution_count": null,
      "outputs": [
        {
          "output_type": "execute_result",
          "data": {
            "text/plain": [
              "array([ 7.2, 18.8, 19. ])"
            ]
          },
          "metadata": {},
          "execution_count": 32
        }
      ]
    },
    {
      "cell_type": "code",
      "source": [],
      "metadata": {
        "id": "njJPPw9Ge5cO"
      },
      "execution_count": null,
      "outputs": []
    }
  ]
}